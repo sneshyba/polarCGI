{
 "cells": [
  {
   "cell_type": "markdown",
   "metadata": {},
   "source": [
    "## Computational Guided Inquiry for Polar Research  \n",
    "\n",
    "## Ice Cores and Climate Change\n",
    "\n",
    "### Activity overview  \n",
    "1. Understand how ice cores record past temperature.\n",
    "2. Plot observed $\\delta  ^{18}O$ and $CO_2$ concentrations in ice core record.\n",
    "3. Relate Greenland and Antarctic ice cores and understand how to generate a composite record.\n",
    "4. Interpret patterns of global climate fluctuation: Milankovitch Cycles, Dansgaard Oeschger Events, and glacial interglacial periods.\n",
    "5. Determine the impact of feedback loops between ice, temperature, and $CO_2$ and observe implications for anthropogenic climate change. \n",
    "\n",
    "### Pre-class activities\n",
    "\n",
    "1. Read the Introduction. \n",
    "2. Watch video _Ice Core Secrets Could Reveal Answers to Global Warming_ from Science Nation: https://www.youtube.com/watch?v=NENZ6TSc1fo\n",
    "3. Watch video, _Ice Core Record of Climate_, from NOVA: https://kcts9.pbslearningmedia.org/resource/nvei.sci.earth.climate/ice-core-record-of-climate/#.WvssFK3MxPM\n",
    "4. Check out the article _Ice Cores and Climate Change_ from the British Antarctic Survey: https://www.bas.ac.uk/wp-content/uploads/2014/03/Ice-cores-and-climate-change_Feb14.pdf\n",
    "5. On a separate piece of paper, define the following terms in your own words: _climate proxy_, _stable isotope_, _Milankovitch Cycles_, _Dansgaard Oeschger events_.\n"
   ]
  },
  {
   "cell_type": "markdown",
   "metadata": {},
   "source": [
    "### Introduction\n",
    "\n",
    "_Ice Cores as a Proxy_ \n",
    "\n",
    "Climate proxies are preserved physical characteristics of earth history which directly represent meteorological measurements. Ice, for example, allows us to observe past snow accumulation, air temperature, and air quality. Ice cores serve as recorders of past climate and atmospheric concentration. Much like rock strata, snow accumulates onto ice sheets providing a record of past environmental conditions which can be measured moving deeper through layers of the core. Shallow ice cores are typically 100-200 m. depth whereas deeper cores can range up to 3000 m. Though ice cores can be taken all over the world, ice cores in polar regions, namely Antarctica and Greenland, provide the best resolution due to relatively stable temperatures and high rates of snow accumulation which best preserve isotopic and atmospheric data. Today, we will work with data from ice cores taken from the East Antarctic Ice Sheet and Greenland, namely Dome C, Dome Fuji, and GRIP cores as well as a composite deep time record in order to explore earth's past climate and glacial cycles. \n",
    "\n",
    "Let's explore a map of the East Antarctic Ice Sheet and Greenland from the National Snow and Ice Data Center. \n",
    "Go to: http://nsidc.org/data/atlas/news/ice_core_additions.html Determine the location of the Dome Fuji and GRIP cores. \n",
    "\n",
    "_Stable Isotopes_\n",
    "\n",
    "Stable isotopes are integrators and recorders of biogeochemical signals. Isotopes are atoms which contain the same number of protons and a different number of neutrons. Stable isotopes, unlike radiogenic isotopes do not decay, and their concentrations can be used to determine environmental conditions. Stable isotopes are reported as a ratio of heavy to light isotopes relative to a standard known as delta notation ($\\delta$). In ice cores, $\\delta  ^{18}O$ stable isotopes can be used as a proxy for temperature. For example, snow falls over Antarctica and is converted to ice, preserving $\\delta  ^{18}O$ values within different depths of an ice sheet. Generally, periods of evaporation result in vapor that is depleted in $\\delta  ^{18}O$ whereas condensation results in precipitation that is enriched in $\\delta  ^{18}O$. Therefore, periods of glaciation are associated with more negative $\\delta$ values and periods of warming are associated with greater $\\delta$ values. With this knowledge, we can interpret changes in temperature from the ice core record using $\\delta  ^{18}O$ as a proxy. \n",
    "\n",
    "Equation:  \n",
    "$T={{13.7 + \\delta  ^{18}O}\\over {0.67}} \\quad (1) $  \n",
    "\n",
    "_Past Greenhouse Gases_\n",
    "\n",
    "Ice cores also contain gas bubbles which directly sample the atmosphere at a given period of time. This provides thorough records of $CO_2$, methane, and nitrous oxide concentrations at given points in earth's history. We will explore chronologies of $CO_2$ emissions in the ice core record and its relevance to temperature. \n",
    "\n",
    "_Global Climate Cycles_ \n",
    "\n",
    "_Milankovitch Cycles_  Over geologic time (millions of years), earth's temperature has oscillated between warm and cold periods. Typically our planet experiences rapid periods of warming (between 10,000 and 20,000 years) and relatively long, stable periods of cooling (between 90,000 and 100,000 years). These fluctuations in global climate are owed to Milankovitch cycles which are produced from changes in the earth's pattern of orbit, axial tilt, and wobble. _Eccentricity_ is an elliptical change in the earth’s orbit around the sun which occurs every 100,000 years. When the earth’s orbit is more elliptical, the earth spends less time close to the sun in the span of a single year, indicating global cooling. _Axial Tilt_ is another process associated with Milankovitch cycles which occurs on a 41,000-year timescale. There is a change in the tilt of the earth’s axis, termed obliquity, of approximately 2.5°. Increased obliquity typically causes summers to be warmer and winters to be colder. _Wobble_ is the final climate process associated with Milankovitch Cycles and occurs every 26,000 years. This wobble is caused by tidal forces and impacts the northern and southern hemisphere differently. The hemisphere closes to the sun will enjoy warmer summers and cooler winters. Currently, our planet is in a warm period, following the Last Glacial Maximum approximately 12,000 years ago. \n",
    "\n",
    "_Dansgaard Oeschger Events_ (DO) are smaller climate fluctuations which occur within larger glacial cycles. This process relates to ocean circulation and affects the northern and southern hemispheres differently. For example, while the northern hemisphere experiences rapid warming over a few decades followed by a longer period of cooling, the southern hemisphere experiences much slower warming and changes in temperature fluctuation. These processes are mediated by global ocean circulation. Ice core records from Antarctica and Greenland reveal that there is a lag time between DO events in the northern hemisphere and the southern hemisphere, likely attributed to oceanic and atmospheric circulation."
   ]
  },
  {
   "cell_type": "code",
   "execution_count": 1,
   "metadata": {},
   "outputs": [],
   "source": [
    "# First we have to get some resources\n",
    "from numpy import *\n",
    "from matplotlib.pyplot import *\n",
    "import matplotlib.image as mpimg\n",
    "%matplotlib notebook"
   ]
  },
  {
   "cell_type": "markdown",
   "metadata": {},
   "source": [
    "### Part 1.\n",
    "_Sourcing the Data_\n",
    "\n",
    "Many of the resources accessed in this exercise have been imported from NOAA: https://www.ncdc.noaa.gov/paleo-search/reports/location?dataTypeId=7&search=true. \n",
    "Here, ice core datasets, in addition to other paleoproxy records, have been made publically available. Under, continent browse to look over the ice core datasets? In which continent does there appear to be the greatest concentration of ice core records? Why?"
   ]
  },
  {
   "cell_type": "markdown",
   "metadata": {},
   "source": [
    "_Interpret the Data_\n",
    "\n",
    "First, we will analyze a temperature record preserved in the Dome C core with $\\delta  ^{18}O$ values. The Dome C core was retrieved from  the Antarctic Plateau at an elevation of approximately 10,500 ft in 1979. The Antarctic Plateau is one of the the coldest places on earth with an average annual temperature of -54.5° C, therefore preserving a good ice stratigraphy due to low rates of melt. In this exercise, we will examine a section of the Dome C core containing a 30,000 year chronology of $\\delta  ^{18}O$. "
   ]
  },
  {
   "cell_type": "code",
   "execution_count": 2,
   "metadata": {},
   "outputs": [
    {
     "ename": "OSError",
     "evalue": "domec1.txt not found.",
     "output_type": "error",
     "traceback": [
      "\u001b[0;31m---------------------------------------------------------------------------\u001b[0m",
      "\u001b[0;31mOSError\u001b[0m                                   Traceback (most recent call last)",
      "\u001b[0;32m<ipython-input-2-9a6265998bdc>\u001b[0m in \u001b[0;36m<module>\u001b[0;34m()\u001b[0m\n\u001b[1;32m      1\u001b[0m \u001b[0;31m# load the data from a text data file\u001b[0m\u001b[0;34m\u001b[0m\u001b[0;34m\u001b[0m\u001b[0m\n\u001b[0;32m----> 2\u001b[0;31m \u001b[0mdomeC\u001b[0m\u001b[0;34m=\u001b[0m\u001b[0mloadtxt\u001b[0m\u001b[0;34m(\u001b[0m\u001b[0;34m\"domec1.txt\"\u001b[0m\u001b[0;34m,\u001b[0m \u001b[0mskiprows\u001b[0m\u001b[0;34m=\u001b[0m\u001b[0;36m16\u001b[0m\u001b[0;34m)\u001b[0m\u001b[0;34m\u001b[0m\u001b[0m\n\u001b[0m\u001b[1;32m      3\u001b[0m \u001b[0mprint\u001b[0m\u001b[0;34m(\u001b[0m\u001b[0mshape\u001b[0m\u001b[0;34m(\u001b[0m\u001b[0mdomeC\u001b[0m\u001b[0;34m)\u001b[0m\u001b[0;34m)\u001b[0m\u001b[0;34m\u001b[0m\u001b[0m\n",
      "\u001b[0;32m~/anaconda3/lib/python3.6/site-packages/numpy/lib/npyio.py\u001b[0m in \u001b[0;36mloadtxt\u001b[0;34m(fname, dtype, comments, delimiter, converters, skiprows, usecols, unpack, ndmin, encoding)\u001b[0m\n\u001b[1;32m    915\u001b[0m             \u001b[0mfname\u001b[0m \u001b[0;34m=\u001b[0m \u001b[0mstr\u001b[0m\u001b[0;34m(\u001b[0m\u001b[0mfname\u001b[0m\u001b[0;34m)\u001b[0m\u001b[0;34m\u001b[0m\u001b[0m\n\u001b[1;32m    916\u001b[0m         \u001b[0;32mif\u001b[0m \u001b[0m_is_string_like\u001b[0m\u001b[0;34m(\u001b[0m\u001b[0mfname\u001b[0m\u001b[0;34m)\u001b[0m\u001b[0;34m:\u001b[0m\u001b[0;34m\u001b[0m\u001b[0m\n\u001b[0;32m--> 917\u001b[0;31m             \u001b[0mfh\u001b[0m \u001b[0;34m=\u001b[0m \u001b[0mnp\u001b[0m\u001b[0;34m.\u001b[0m\u001b[0mlib\u001b[0m\u001b[0;34m.\u001b[0m\u001b[0m_datasource\u001b[0m\u001b[0;34m.\u001b[0m\u001b[0mopen\u001b[0m\u001b[0;34m(\u001b[0m\u001b[0mfname\u001b[0m\u001b[0;34m,\u001b[0m \u001b[0;34m'rt'\u001b[0m\u001b[0;34m,\u001b[0m \u001b[0mencoding\u001b[0m\u001b[0;34m=\u001b[0m\u001b[0mencoding\u001b[0m\u001b[0;34m)\u001b[0m\u001b[0;34m\u001b[0m\u001b[0m\n\u001b[0m\u001b[1;32m    918\u001b[0m             \u001b[0mfencoding\u001b[0m \u001b[0;34m=\u001b[0m \u001b[0mgetattr\u001b[0m\u001b[0;34m(\u001b[0m\u001b[0mfh\u001b[0m\u001b[0;34m,\u001b[0m \u001b[0;34m'encoding'\u001b[0m\u001b[0;34m,\u001b[0m \u001b[0;34m'latin1'\u001b[0m\u001b[0;34m)\u001b[0m\u001b[0;34m\u001b[0m\u001b[0m\n\u001b[1;32m    919\u001b[0m             \u001b[0mfh\u001b[0m \u001b[0;34m=\u001b[0m \u001b[0miter\u001b[0m\u001b[0;34m(\u001b[0m\u001b[0mfh\u001b[0m\u001b[0;34m)\u001b[0m\u001b[0;34m\u001b[0m\u001b[0m\n",
      "\u001b[0;32m~/anaconda3/lib/python3.6/site-packages/numpy/lib/_datasource.py\u001b[0m in \u001b[0;36mopen\u001b[0;34m(path, mode, destpath, encoding, newline)\u001b[0m\n\u001b[1;32m    258\u001b[0m \u001b[0;34m\u001b[0m\u001b[0m\n\u001b[1;32m    259\u001b[0m     \u001b[0mds\u001b[0m \u001b[0;34m=\u001b[0m \u001b[0mDataSource\u001b[0m\u001b[0;34m(\u001b[0m\u001b[0mdestpath\u001b[0m\u001b[0;34m)\u001b[0m\u001b[0;34m\u001b[0m\u001b[0m\n\u001b[0;32m--> 260\u001b[0;31m     \u001b[0;32mreturn\u001b[0m \u001b[0mds\u001b[0m\u001b[0;34m.\u001b[0m\u001b[0mopen\u001b[0m\u001b[0;34m(\u001b[0m\u001b[0mpath\u001b[0m\u001b[0;34m,\u001b[0m \u001b[0mmode\u001b[0m\u001b[0;34m,\u001b[0m \u001b[0mencoding\u001b[0m\u001b[0;34m=\u001b[0m\u001b[0mencoding\u001b[0m\u001b[0;34m,\u001b[0m \u001b[0mnewline\u001b[0m\u001b[0;34m=\u001b[0m\u001b[0mnewline\u001b[0m\u001b[0;34m)\u001b[0m\u001b[0;34m\u001b[0m\u001b[0m\n\u001b[0m\u001b[1;32m    261\u001b[0m \u001b[0;34m\u001b[0m\u001b[0m\n\u001b[1;32m    262\u001b[0m \u001b[0;34m\u001b[0m\u001b[0m\n",
      "\u001b[0;32m~/anaconda3/lib/python3.6/site-packages/numpy/lib/_datasource.py\u001b[0m in \u001b[0;36mopen\u001b[0;34m(self, path, mode, encoding, newline)\u001b[0m\n\u001b[1;32m    614\u001b[0m                                       encoding=encoding, newline=newline)\n\u001b[1;32m    615\u001b[0m         \u001b[0;32melse\u001b[0m\u001b[0;34m:\u001b[0m\u001b[0;34m\u001b[0m\u001b[0m\n\u001b[0;32m--> 616\u001b[0;31m             \u001b[0;32mraise\u001b[0m \u001b[0mIOError\u001b[0m\u001b[0;34m(\u001b[0m\u001b[0;34m\"%s not found.\"\u001b[0m \u001b[0;34m%\u001b[0m \u001b[0mpath\u001b[0m\u001b[0;34m)\u001b[0m\u001b[0;34m\u001b[0m\u001b[0m\n\u001b[0m\u001b[1;32m    617\u001b[0m \u001b[0;34m\u001b[0m\u001b[0m\n\u001b[1;32m    618\u001b[0m \u001b[0;34m\u001b[0m\u001b[0m\n",
      "\u001b[0;31mOSError\u001b[0m: domec1.txt not found."
     ]
    }
   ],
   "source": [
    "# load the data from a text data file\n",
    "domeC=loadtxt(\"domec1.txt\", skiprows=16)\n",
    "print(shape(domeC)) "
   ]
  },
  {
   "cell_type": "code",
   "execution_count": null,
   "metadata": {},
   "outputs": [],
   "source": [
    "# extract the columns of interest from the dataset, time and delta18o \n",
    "deltaO18_domeC=domeC[:,4]\n",
    "age_domeC=domeC[:,7]"
   ]
  },
  {
   "cell_type": "code",
   "execution_count": null,
   "metadata": {
    "scrolled": true
   },
   "outputs": [],
   "source": [
    "# plot data\n",
    "figure()\n",
    "plot(age_domeC,deltaO18_domeC)\n",
    "grid(\"on\")\n",
    "xlabel(\"Time (kyear)\")\n",
    "ylabel(\"$\\delta ^{18}$O\")"
   ]
  },
  {
   "cell_type": "markdown",
   "metadata": {},
   "source": [
    "### Working with Real Data.\n",
    "Notice the vertical lines on the graph. Does it seem realistic to see such drastic changes in temperature over such a short period of time? Oftentimes large datasets contain null, or zero values, where information could not be collected. Here we need to clean up 0 or null values in the dataset to better observe patterns within $\\delta^{18}O$ throughout time in the Dome C core. Let's try eliminating these null values from our dataset and then interpret the graph. "
   ]
  },
  {
   "cell_type": "code",
   "execution_count": null,
   "metadata": {},
   "outputs": [],
   "source": [
    "# find indices of 0 values \n",
    "ibad=where(deltaO18_domeC==0)\n",
    "shape (deltaO18_domeC)"
   ]
  },
  {
   "cell_type": "code",
   "execution_count": null,
   "metadata": {},
   "outputs": [],
   "source": [
    "# eliminate null or zero values from array\n",
    "deltaO18_domeC=delete(deltaO18_domeC,ibad)\n",
    "age_domeC=delete(age_domeC,ibad)"
   ]
  },
  {
   "cell_type": "code",
   "execution_count": null,
   "metadata": {},
   "outputs": [],
   "source": [
    "# plot \"clean\" data\n",
    "figure()\n",
    "plot(age_domeC,deltaO18_domeC)\n",
    "grid(\"on\")\n",
    "xlabel(\"Time (kyear)\")\n",
    "ylabel(\"$\\delta ^{18}$O\")"
   ]
  },
  {
   "cell_type": "markdown",
   "metadata": {},
   "source": [
    "### Pause for Analysis\n",
    "\n",
    "Now that we've eliminated null values, we should be better able to interpret data from the Dome C core. How does $\\delta  ^{18}O$ vary with time – what indication does this have for temperature? Between 10,000 and 18,000 years ago there is a significant change in $\\delta  ^{18}O$ values. What geologic event could this signify?"
   ]
  },
  {
   "cell_type": "markdown",
   "metadata": {},
   "source": [
    "### Part 2\n",
    "\n",
    "The Greenland Ice Core project, or GRIP, represents a drilling project by the European Science Foundation between 1989 and 1995. The dataset below represents a 40,000 year temperature chronology with $\\delta ^{18}0$ data. First, we will load the GRIP data and compare the GRIP and Dome C records. Next we will convert $\\delta ^{18}0$ values directly to temperature. "
   ]
  },
  {
   "cell_type": "code",
   "execution_count": null,
   "metadata": {},
   "outputs": [],
   "source": [
    "# Load GRIP ice core data \n",
    "grip=genfromtxt(\"grip.txt\", skip_header=177, usecols=(0,1,2), encoding=\"ISO-8859-1\")\n",
    "print(shape(grip))"
   ]
  },
  {
   "cell_type": "code",
   "execution_count": null,
   "metadata": {},
   "outputs": [],
   "source": [
    "# extract the columns of interest, temperature and delta180\n",
    "delta18o_grip=grip[:,2]\n",
    "age_grip=grip[:,1]"
   ]
  },
  {
   "cell_type": "markdown",
   "metadata": {},
   "source": [
    "### Try your skill\n",
    "\n",
    "Generate a plot of Greenland $\\delta^{18}O$ values as a function of time. Refer to the format of the Dome C plot in order to generate your figure - feel free to copy and paste code as needed.\n",
    "\n",
    "_Note_: The age data for the GRIP core is in years rather than kiloyears - be sure to change the axis label on your figure to correctly represent the data."
   ]
  },
  {
   "cell_type": "code",
   "execution_count": null,
   "metadata": {},
   "outputs": [],
   "source": [
    "# plot data - age_grip vs. delta18o grip, remember to label axes."
   ]
  },
  {
   "cell_type": "markdown",
   "metadata": {},
   "source": [
    "### Pause for Analysis\n",
    "\n",
    "What is the range of $\\delta ^{18}$O values for the GRIP core? Notice the temperature oscillations between 20,000 and 50,000 years. How does the magnitude of these fluctuations compare to the record from Dome C? Which core appears to be experiencing more rapid changes in temperature. Given your knowledge of climate circulation, why might these values be different for ice cores taken from the northern and southern hemispheres?"
   ]
  },
  {
   "cell_type": "markdown",
   "metadata": {},
   "source": [
    "### Converting Isotope Data to Temperature\n",
    "\n",
    "Let's explore the relationship between $\\delta^{18}O$ and temperature. Use _Equation 1_ in the introduction to calculate a temperature for the GRIP $\\delta ^{18}$O values."
   ]
  },
  {
   "cell_type": "code",
   "execution_count": null,
   "metadata": {},
   "outputs": [],
   "source": [
    "# Convert to delta values to temperature using Equation 1.\n",
    "# Graph temperature as a function of time for GRIP.\n"
   ]
  },
  {
   "cell_type": "markdown",
   "metadata": {},
   "source": [
    "### Pause for Analysis\n",
    "\n",
    "What is the range of temperatures recorded in the GRIP core between the period of 10,000 and 50,000 years? Does this seem like a reasonable range - keep in mind the location of the core on Greenland Summit. Look up the monthly temperature at Greenland Summit here: http://www.summitcamp.org/status/weather/index?period=1month \n",
    "\n",
    "Next, Compare this data to the $\\delta  ^{18}O$ plot. What appears to be the relationship between $\\delta  ^{18}O$ and temperature. Explain."
   ]
  },
  {
   "cell_type": "markdown",
   "metadata": {},
   "source": [
    "### Part 3\n",
    "\n",
    "Ice cores provide records deep into the past, up to 800,000 years. The Dome Fuji core in particular, collected in 2003, provides a 720,000 year temperature chronology of the East Antarctic Ice Sheet. Here we will load $\\delta ^{18}O$ values for the core, and observe global climate fluctuations at different time resolutions from 100,000 years to 10,000 years."
   ]
  },
  {
   "cell_type": "code",
   "execution_count": null,
   "metadata": {},
   "outputs": [],
   "source": [
    "# Extract the data \n",
    "domefuji=genfromtxt(\"domefuji.txt\", skip_header=118, skip_footer=7655-7589,usecols=(2,3), encoding=\"ISO-8859-1\")\n",
    "print(shape(domefuji))"
   ]
  },
  {
   "cell_type": "code",
   "execution_count": null,
   "metadata": {},
   "outputs": [],
   "source": [
    "# extract the columns of interest, delta18o and age\n",
    "delt18_fuji=domefuji[:,1]\n",
    "age_fuji=domefuji[:,0]"
   ]
  },
  {
   "cell_type": "code",
   "execution_count": null,
   "metadata": {},
   "outputs": [],
   "source": [
    "# plot data\n"
   ]
  },
  {
   "cell_type": "markdown",
   "metadata": {},
   "source": [
    "### Pause for Analysis\n",
    "\n",
    "Which of the climate oscillation patterns pertaining to Milankovitch cylces (eccentricity = 100,000 years, axial tilt = 41,0000 years, and wobble = 26,000 years) can you interpret from the data? Sketch this figure onto a separate sheet of paper and identify the different climate oscillation cycles. "
   ]
  },
  {
   "cell_type": "markdown",
   "metadata": {},
   "source": [
    "### Part 4\n",
    "\n",
    "$CO_2$ is also preserved in the ice core record. We will load a composite data set spanning 800,000 years. Data from different cores can be combined in order to produce a longer record. This data set contains $CO_2$ data from the following cores, Law Dome, Dome C, WAIS, Siple Dome, Taldice, and Vostok, all drilled from Antarctica.\n",
    "\n",
    "This time you will load the data yourself. Return to the NOAA website here: https://www.ncdc.noaa.gov/paleo-search/reports/location?dataTypeId=7&search=true to look at ice core records by location \n",
    "\n",
    "Under the Continent tab, click on Antarctica. Here you should see a large list of datasets. We are interested in the Antarctic Ice Cores Revised 800KYr $CO_2$ Data entry. This entry should be approximately 7 down from the top of the list. Here is the link: https://www.ncdc.noaa.gov/paleo-search/study/17975\n",
    "\n",
    "Now, browse to the text data file. Under EPICA Dome C, select the last text data file entry \"Antarctic Ice Core Revised Composite CO2 Data\". Right click on this file and select the \"download linked file as\" command. Move the file to your folder and save the file as \"composite.txt\" You will need to remember this filename in order to retrieve the datafile and extract the columns of interest.\n",
    "\n",
    "Look through the file we have just loaded. There is a large amount of text describing the data we have just accessed, however we do not want to plot this text. We will use the skiprows command in order to separate the 138 rows of text we are not interested from the data we would like to load. "
   ]
  },
  {
   "cell_type": "code",
   "execution_count": null,
   "metadata": {},
   "outputs": [],
   "source": [
    "# load the data using the load command \"composite=loadtxt(\"composite.txt\", skiprows=138)\"\n",
    "# next we will print the shape of the data to see if our data properly loaded \n",
    "# print the data using the command \"print(shape(composite))\"\n",
    "# we would like to have 3 columns and 1901 rows which will be expressed as (1901,3)"
   ]
  },
  {
   "cell_type": "markdown",
   "metadata": {},
   "source": [
    "### Test your Skill\n",
    "In this exercise we would like to generate a plot of $CO_2$ vs time. There are 3 columns of data of the file we just loaded, however we are only interested in two of them: the first column \"age_gas_calBP\" (referred to as column 0) and the second column \"co2_ppm\" (referred to as column 1). Let's extract the column's of interest in order to generate our plot."
   ]
  },
  {
   "cell_type": "code",
   "execution_count": null,
   "metadata": {},
   "outputs": [],
   "source": [
    "# extract columns of interest using the command \"co2_comp=composite[:,1]\" for CO2 and \"age_comp=composite[:,0]\" for age\"\n"
   ]
  },
  {
   "cell_type": "code",
   "execution_count": null,
   "metadata": {},
   "outputs": [],
   "source": [
    "# plot data CO2 vs. time\n",
    "# Be sure to label your axes correctly\n"
   ]
  },
  {
   "cell_type": "markdown",
   "metadata": {},
   "source": [
    "### Pause for Analysis\n",
    "\n",
    "What patterns are observed in the $CO_2$ data? How do these measurements relate to the temperature record? What is the range of $CO_2$ data in ppm between 800,000 and 100,000 years ago? What is the value of $CO_2$ in ppm at time 0? "
   ]
  },
  {
   "cell_type": "markdown",
   "metadata": {},
   "source": [
    "### Part 5\n",
    "\n",
    "Finally, we will explore the relationship between temperature and $CO_2$ in 425,000 Vostok record. We will then look at current atmospheric $CO_2$ concentrations from Mauna Loa compare these to the geologic record. We will then explore the relationship and potential feedbacks between $CO_2$ and temperature."
   ]
  },
  {
   "cell_type": "code",
   "execution_count": null,
   "metadata": {},
   "outputs": [],
   "source": [
    "# load record comparing co2 and temp.\n",
    "img=mpimg.imread('co2.png')\n",
    "matplotlib.pyplot.figure()\n",
    "imgplot = matplotlib.pyplot.imshow(img)"
   ]
  },
  {
   "cell_type": "markdown",
   "metadata": {},
   "source": [
    "### Pause for Analysis\n",
    "\n",
    "Is there a potential feedback between $CO_2$ and temperature given the record from the Vostok Core? Explain using your knowledge of the greenhouse effect. How might this relate to the feedback between ice-albedo?\n",
    "\n",
    "Determine the recent monthly average for $CO_2$ at Mauna Loa: https://www.esrl.noaa.gov/gmd/ccgg/trends/\n",
    "\n",
    "What is the range of $CO_2$ in ppm given the historical ice core record in Part 4? How does this compare to the recent monthly average? Given this understanding of the relationship between $CO_2$ and temperature during glacial cycles, what are the implications of current $CO_2$ emissions on global climate? "
   ]
  },
  {
   "cell_type": "code",
   "execution_count": null,
   "metadata": {},
   "outputs": [],
   "source": []
  }
 ],
 "metadata": {
  "kernelspec": {
   "display_name": "Python 3",
   "language": "python",
   "name": "python3"
  },
  "language_info": {
   "codemirror_mode": {
    "name": "ipython",
    "version": 3
   },
   "file_extension": ".py",
   "mimetype": "text/x-python",
   "name": "python",
   "nbconvert_exporter": "python",
   "pygments_lexer": "ipython3",
   "version": "3.6.5"
  }
 },
 "nbformat": 4,
 "nbformat_minor": 2
}
